{
 "cells": [
  {
   "cell_type": "code",
   "execution_count": 1,
   "metadata": {},
   "outputs": [
    {
     "name": "stdout",
     "output_type": "stream",
     "text": [
      "Hello, World!\n"
     ]
    }
   ],
   "source": [
    "print(\"Hello, World!\")"
   ]
  },
  {
   "cell_type": "code",
   "execution_count": null,
   "metadata": {},
   "outputs": [
    {
     "name": "stdout",
     "output_type": "stream",
     "text": [
      "<class 'int'>\n"
     ]
    }
   ],
   "source": [
    "# type and data type\n",
    "a = 1\n",
    "print(type(a))"
   ]
  },
  {
   "cell_type": "code",
   "execution_count": 9,
   "metadata": {},
   "outputs": [
    {
     "name": "stdout",
     "output_type": "stream",
     "text": [
      "t\n",
      "y\n",
      "Python\n",
      "ysae si nohtyP\n"
     ]
    }
   ],
   "source": [
    "# stings\n",
    "string = 'Python is easy'\n",
    "# indexing \n",
    "print(string[2])\n",
    "print(string[-1])\n",
    "#slicing\n",
    "print(string[0:6])\n",
    "#reversing\n",
    "print(string[::-1])"
   ]
  },
  {
   "cell_type": "code",
   "execution_count": 25,
   "metadata": {},
   "outputs": [
    {
     "name": "stdout",
     "output_type": "stream",
     "text": [
      "  PYTHON IS EASY  \n",
      "  python is easy  \n",
      "['Python', 'is', 'easy']\n",
      "Python is easy\n",
      "  Java is easy  \n",
      "9\n",
      "Python is easy\n"
     ]
    }
   ],
   "source": [
    "# sting methods\n",
    "string = '  Python is easy  '\n",
    "print(string.upper()) # upper case\n",
    "print(string.lower()) # lower case\n",
    "print(string.split()) # split on space\n",
    "print(string.strip()) # remove white space\n",
    "print(string.replace('Python', 'Java')) # replace pathon with java\n",
    "print(string.find('is')) # find index of is\n",
    "\n",
    "# concatenation\n",
    "string1 = 'Python'\n",
    "string2 = 'is easy'\n",
    "print(string1 + ' ' + string2)"
   ]
  },
  {
   "cell_type": "code",
   "execution_count": 39,
   "metadata": {},
   "outputs": [
    {
     "name": "stdout",
     "output_type": "stream",
     "text": [
      "(1, 2.5, 3, 'varun', True, (1, 2, 3))\n",
      "<class 'tuple'>\n",
      "(3, 'varun', True)\n",
      "((1, 2, 3), True, 'varun', 3, 2.5, 1)\n",
      "(2.5, 3, 'varun', True)\n",
      "(1, 2.5, 3, 'varun', True, (1, 2, 3), 1, 2.5, 3, 'varun', True, (1, 2, 3))\n",
      "2\n",
      "2\n",
      "6\n"
     ]
    }
   ],
   "source": [
    "# tuples\n",
    "tup = (1, 2.5, 3, \"varun\", True, (1, 2, 3))\n",
    "print(tup)\n",
    "print(type(tup))\n",
    "\n",
    "# slicing\n",
    "print(tup[2:5])\n",
    "print(tup[::-1])\n",
    "print(tup[-5: -1])\n",
    "print(tup*2)\n",
    "\n",
    "#methods\n",
    "print(tup.count(1))\n",
    "print(tup.index(3))\n",
    "print(len(tup))\n"
   ]
  },
  {
   "cell_type": "code",
   "execution_count": 63,
   "metadata": {},
   "outputs": [
    {
     "name": "stdout",
     "output_type": "stream",
     "text": [
      "[1, 2.5, 3, 'varun', True, (1, 2, 3)]\n",
      "<class 'list'>\n",
      "[3, 'varun', True]\n",
      "[(1, 2, 3), True, 'varun', 3, 2.5, 1]\n",
      "[2.5, 3, 'varun', True]\n",
      "[1, 2.5, 3, 'varun', True, (1, 2, 3), 1, 2.5, 3, 'varun', True, (1, 2, 3)]\n",
      "3\n",
      "[1, 2.5, 4, 'varun', True, (1, 2, 3)]\n",
      "[1, 2.5, 4, 'varun', True, (1, 2, 3), 'new']\n",
      "[1, 2.5, 'insert', 4, 'varun', True, (1, 2, 3), 'new']\n",
      "new\n",
      "[55, 8, 6, 3, 2, 2, 1, 0]\n"
     ]
    }
   ],
   "source": [
    "# list\n",
    "list = [1, 2.5, 3, \"varun\", True, (1, 2, 3)]\n",
    "print(list)\n",
    "print(type(list))\n",
    "\n",
    "# slicing\n",
    "print(list[2:5])\n",
    "print(list[::-1])\n",
    "print(list[-5: -1])\n",
    "print(list*2)\n",
    "\n",
    "#methods\n",
    "print(list.index('varun'))\n",
    "list[2] = 4\n",
    "print(list)\n",
    "list.append('new')\n",
    "print(list)\n",
    "list.insert(2, 'insert')\n",
    "print(list)\n",
    "print(list.pop())\n",
    "\n",
    "l = [1, 2, 55,3,8,2,0,6]\n",
    "l.sort(reverse=True)\n",
    "print(l)"
   ]
  },
  {
   "cell_type": "code",
   "execution_count": null,
   "metadata": {},
   "outputs": [],
   "source": []
  }
 ],
 "metadata": {
  "kernelspec": {
   "display_name": "Python 3",
   "language": "python",
   "name": "python3"
  },
  "language_info": {
   "codemirror_mode": {
    "name": "ipython",
    "version": 3
   },
   "file_extension": ".py",
   "mimetype": "text/x-python",
   "name": "python",
   "nbconvert_exporter": "python",
   "pygments_lexer": "ipython3",
   "version": "3.13.2"
  }
 },
 "nbformat": 4,
 "nbformat_minor": 2
}
